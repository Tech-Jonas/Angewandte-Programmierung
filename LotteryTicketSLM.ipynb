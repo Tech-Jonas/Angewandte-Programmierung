{
  "nbformat": 4,
  "nbformat_minor": 0,
  "metadata": {
    "colab": {
      "provenance": [],
      "authorship_tag": "ABX9TyP+Vo1YaeyOEVxKv42+spsl",
      "include_colab_link": true
    },
    "kernelspec": {
      "name": "python3",
      "display_name": "Python 3"
    },
    "language_info": {
      "name": "python"
    }
  },
  "cells": [
    {
      "cell_type": "markdown",
      "metadata": {
        "id": "view-in-github",
        "colab_type": "text"
      },
      "source": [
        "<a href=\"https://colab.research.google.com/github/Tech-Jonas/Angewandte-Programmierung/blob/main/LotteryTicketSLM.ipynb\" target=\"_parent\"><img src=\"https://colab.research.google.com/assets/colab-badge.svg\" alt=\"Open In Colab\"/></a>"
      ]
    },
    {
      "cell_type": "code",
      "execution_count": null,
      "metadata": {
        "id": "TtIUcvkMNgBn"
      },
      "outputs": [],
      "source": [
        "!pip install torch\n",
        "!pip install transformers\n",
        "!pip install -q huggingface_hub\n",
        "!pip install -U bitsandbytes\n",
        "!pip install hf_xet"
      ]
    },
    {
      "cell_type": "code",
      "source": [
        "# Trainingsdaten\n",
        "import json\n",
        "\n",
        "# Open the file in read mode ('r')\n",
        "with open(\"12B_combined_golden.json\", 'r') as f:\n",
        "    # Now you can load the JSON data from the file object 'f'\n",
        "    training_data = json.load(f)\n",
        "\n",
        "# print(json.dumps(training_data['questions'][0], indent=2))"
      ],
      "metadata": {
        "id": "DalDAWLdNjA0"
      },
      "execution_count": null,
      "outputs": []
    },
    {
      "cell_type": "code",
      "source": [
        "import gradio as gr\n",
        "import torch\n",
        "from transformers import AutoTokenizer, AutoModelForCausalLM, BitsAndBytesConfig\n",
        "\n",
        "model_name = \"Qwen/Qwen3-4B\"\n",
        "\n",
        "# load the tokenizer and the model\n",
        "tokenizer = AutoTokenizer.from_pretrained(model_name)\n",
        "model = AutoModelForCausalLM.from_pretrained(\n",
        "    model_name,\n",
        "    torch_dtype=\"auto\",\n",
        "    device_map=\"auto\"\n",
        ")"
      ],
      "metadata": {
        "id": "S1dHgE2HNkra"
      },
      "execution_count": null,
      "outputs": []
    }
  ]
}